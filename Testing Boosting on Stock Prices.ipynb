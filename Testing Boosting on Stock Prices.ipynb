{
  "cells": [
    {
      "cell_type": "markdown",
      "id": "2a987dba-3a43-4735-b84c-e826d1ef456d",
      "metadata": {
        "id": "2a987dba-3a43-4735-b84c-e826d1ef456d"
      },
      "source": [
        "# Tata Steel Stock Price Predictions"
      ]
    },
    {
      "cell_type": "markdown",
      "id": "2d9b1370-8bf1-4e94-9a3e-2845f69f3209",
      "metadata": {
        "id": "2d9b1370-8bf1-4e94-9a3e-2845f69f3209"
      },
      "source": [
        "# Import Required Libraries"
      ]
    },
    {
      "cell_type": "code",
      "execution_count": null,
      "id": "a3e6b745-a64c-479b-aca7-01da79845490",
      "metadata": {
        "id": "a3e6b745-a64c-479b-aca7-01da79845490"
      },
      "outputs": [],
      "source": [
        "import pandas as pd\n",
        "import numpy as np\n",
        "import matplotlib.pyplot as plt\n",
        "import seaborn as sns\n",
        "import warnings\n",
        "warnings.filterwarnings(\"ignore\")"
      ]
    },
    {
      "cell_type": "markdown",
      "id": "42faa4c9-d261-4955-9942-f6f3bfd9463c",
      "metadata": {
        "id": "42faa4c9-d261-4955-9942-f6f3bfd9463c"
      },
      "source": [
        "## Read the Dataset"
      ]
    },
    {
      "cell_type": "code",
      "execution_count": null,
      "id": "d049bfff-5269-4a78-960a-9447c1092e33",
      "metadata": {
        "id": "d049bfff-5269-4a78-960a-9447c1092e33"
      },
      "outputs": [],
      "source": [
        "df=pd.read_csv(\"TATASTEEL.NS (1).csv\")"
      ]
    },
    {
      "cell_type": "code",
      "execution_count": null,
      "id": "8a556c2f-3f85-44f5-8e95-c8b96aa159f9",
      "metadata": {
        "id": "8a556c2f-3f85-44f5-8e95-c8b96aa159f9",
        "outputId": "4b6ac835-12cf-4ac9-f7c8-ac6f8040bba7"
      },
      "outputs": [
        {
          "data": {
            "text/html": [
              "<div>\n",
              "<style scoped>\n",
              "    .dataframe tbody tr th:only-of-type {\n",
              "        vertical-align: middle;\n",
              "    }\n",
              "\n",
              "    .dataframe tbody tr th {\n",
              "        vertical-align: top;\n",
              "    }\n",
              "\n",
              "    .dataframe thead th {\n",
              "        text-align: right;\n",
              "    }\n",
              "</style>\n",
              "<table border=\"1\" class=\"dataframe\">\n",
              "  <thead>\n",
              "    <tr style=\"text-align: right;\">\n",
              "      <th></th>\n",
              "      <th>Date</th>\n",
              "      <th>Open</th>\n",
              "      <th>High</th>\n",
              "      <th>Low</th>\n",
              "      <th>Close</th>\n",
              "      <th>Adj Close</th>\n",
              "      <th>Volume</th>\n",
              "    </tr>\n",
              "  </thead>\n",
              "  <tbody>\n",
              "    <tr>\n",
              "      <th>0</th>\n",
              "      <td>1996-01-01</td>\n",
              "      <td>11.172855</td>\n",
              "      <td>11.214964</td>\n",
              "      <td>11.035300</td>\n",
              "      <td>11.186892</td>\n",
              "      <td>2.568285</td>\n",
              "      <td>10242229.0</td>\n",
              "    </tr>\n",
              "    <tr>\n",
              "      <th>1</th>\n",
              "      <td>1996-01-02</td>\n",
              "      <td>11.172855</td>\n",
              "      <td>11.214964</td>\n",
              "      <td>10.951082</td>\n",
              "      <td>10.979155</td>\n",
              "      <td>2.520592</td>\n",
              "      <td>16954313.0</td>\n",
              "    </tr>\n",
              "    <tr>\n",
              "      <th>2</th>\n",
              "      <td>1996-01-03</td>\n",
              "      <td>10.979155</td>\n",
              "      <td>11.229000</td>\n",
              "      <td>10.951082</td>\n",
              "      <td>10.981962</td>\n",
              "      <td>2.521237</td>\n",
              "      <td>13514114.0</td>\n",
              "    </tr>\n",
              "    <tr>\n",
              "      <th>3</th>\n",
              "      <td>1996-01-04</td>\n",
              "      <td>10.807913</td>\n",
              "      <td>10.807913</td>\n",
              "      <td>10.386825</td>\n",
              "      <td>10.633863</td>\n",
              "      <td>2.441320</td>\n",
              "      <td>34785820.0</td>\n",
              "    </tr>\n",
              "    <tr>\n",
              "      <th>4</th>\n",
              "      <td>1996-01-05</td>\n",
              "      <td>10.504730</td>\n",
              "      <td>10.555260</td>\n",
              "      <td>10.316644</td>\n",
              "      <td>10.423319</td>\n",
              "      <td>2.392984</td>\n",
              "      <td>30138033.0</td>\n",
              "    </tr>\n",
              "    <tr>\n",
              "      <th>...</th>\n",
              "      <td>...</td>\n",
              "      <td>...</td>\n",
              "      <td>...</td>\n",
              "      <td>...</td>\n",
              "      <td>...</td>\n",
              "      <td>...</td>\n",
              "      <td>...</td>\n",
              "    </tr>\n",
              "    <tr>\n",
              "      <th>6866</th>\n",
              "      <td>2023-04-11</td>\n",
              "      <td>105.550003</td>\n",
              "      <td>107.849998</td>\n",
              "      <td>105.099998</td>\n",
              "      <td>107.550003</td>\n",
              "      <td>107.550003</td>\n",
              "      <td>49304956.0</td>\n",
              "    </tr>\n",
              "    <tr>\n",
              "      <th>6867</th>\n",
              "      <td>2023-04-12</td>\n",
              "      <td>108.199997</td>\n",
              "      <td>108.400002</td>\n",
              "      <td>106.949997</td>\n",
              "      <td>107.599998</td>\n",
              "      <td>107.599998</td>\n",
              "      <td>27349538.0</td>\n",
              "    </tr>\n",
              "    <tr>\n",
              "      <th>6868</th>\n",
              "      <td>2023-04-13</td>\n",
              "      <td>107.500000</td>\n",
              "      <td>108.150002</td>\n",
              "      <td>105.900002</td>\n",
              "      <td>107.500000</td>\n",
              "      <td>107.500000</td>\n",
              "      <td>34880922.0</td>\n",
              "    </tr>\n",
              "    <tr>\n",
              "      <th>6869</th>\n",
              "      <td>2023-04-17</td>\n",
              "      <td>107.599998</td>\n",
              "      <td>108.300003</td>\n",
              "      <td>106.750000</td>\n",
              "      <td>107.150002</td>\n",
              "      <td>107.150002</td>\n",
              "      <td>24642162.0</td>\n",
              "    </tr>\n",
              "    <tr>\n",
              "      <th>6870</th>\n",
              "      <td>2023-04-18</td>\n",
              "      <td>107.199997</td>\n",
              "      <td>107.900002</td>\n",
              "      <td>106.849998</td>\n",
              "      <td>107.599998</td>\n",
              "      <td>107.599998</td>\n",
              "      <td>25476339.0</td>\n",
              "    </tr>\n",
              "  </tbody>\n",
              "</table>\n",
              "<p>6871 rows × 7 columns</p>\n",
              "</div>"
            ],
            "text/plain": [
              "            Date        Open        High         Low       Close   Adj Close  \\\n",
              "0     1996-01-01   11.172855   11.214964   11.035300   11.186892    2.568285   \n",
              "1     1996-01-02   11.172855   11.214964   10.951082   10.979155    2.520592   \n",
              "2     1996-01-03   10.979155   11.229000   10.951082   10.981962    2.521237   \n",
              "3     1996-01-04   10.807913   10.807913   10.386825   10.633863    2.441320   \n",
              "4     1996-01-05   10.504730   10.555260   10.316644   10.423319    2.392984   \n",
              "...          ...         ...         ...         ...         ...         ...   \n",
              "6866  2023-04-11  105.550003  107.849998  105.099998  107.550003  107.550003   \n",
              "6867  2023-04-12  108.199997  108.400002  106.949997  107.599998  107.599998   \n",
              "6868  2023-04-13  107.500000  108.150002  105.900002  107.500000  107.500000   \n",
              "6869  2023-04-17  107.599998  108.300003  106.750000  107.150002  107.150002   \n",
              "6870  2023-04-18  107.199997  107.900002  106.849998  107.599998  107.599998   \n",
              "\n",
              "          Volume  \n",
              "0     10242229.0  \n",
              "1     16954313.0  \n",
              "2     13514114.0  \n",
              "3     34785820.0  \n",
              "4     30138033.0  \n",
              "...          ...  \n",
              "6866  49304956.0  \n",
              "6867  27349538.0  \n",
              "6868  34880922.0  \n",
              "6869  24642162.0  \n",
              "6870  25476339.0  \n",
              "\n",
              "[6871 rows x 7 columns]"
            ]
          },
          "execution_count": 3,
          "metadata": {},
          "output_type": "execute_result"
        }
      ],
      "source": [
        "df"
      ]
    },
    {
      "cell_type": "markdown",
      "id": "0a71588a-74c5-4e61-a0c8-75453b140d5c",
      "metadata": {
        "id": "0a71588a-74c5-4e61-a0c8-75453b140d5c"
      },
      "source": [
        "## Data Exploration"
      ]
    },
    {
      "cell_type": "markdown",
      "id": "ea637bec-f440-48bb-ac6c-27b396afb7a0",
      "metadata": {
        "id": "ea637bec-f440-48bb-ac6c-27b396afb7a0"
      },
      "source": [
        "### Summarize the Data"
      ]
    },
    {
      "cell_type": "code",
      "execution_count": null,
      "id": "f53186f0-3e21-47a6-850f-98f1f86f2fea",
      "metadata": {
        "id": "f53186f0-3e21-47a6-850f-98f1f86f2fea",
        "outputId": "180b4ef0-2d03-4006-dd57-1077132ca02f"
      },
      "outputs": [
        {
          "name": "stdout",
          "output_type": "stream",
          "text": [
            "<class 'pandas.core.frame.DataFrame'>\n",
            "RangeIndex: 6871 entries, 0 to 6870\n",
            "Data columns (total 7 columns):\n",
            " #   Column     Non-Null Count  Dtype  \n",
            "---  ------     --------------  -----  \n",
            " 0   Date       6871 non-null   object \n",
            " 1   Open       6864 non-null   float64\n",
            " 2   High       6864 non-null   float64\n",
            " 3   Low        6864 non-null   float64\n",
            " 4   Close      6864 non-null   float64\n",
            " 5   Adj Close  6864 non-null   float64\n",
            " 6   Volume     6864 non-null   float64\n",
            "dtypes: float64(6), object(1)\n",
            "memory usage: 375.9+ KB\n"
          ]
        }
      ],
      "source": [
        "df.info()"
      ]
    },
    {
      "cell_type": "markdown",
      "id": "94563a85-ec3b-43b0-b6d0-60aa430ff065",
      "metadata": {
        "id": "94563a85-ec3b-43b0-b6d0-60aa430ff065"
      },
      "source": [
        "### Descriptive Summary of Data"
      ]
    },
    {
      "cell_type": "code",
      "execution_count": null,
      "id": "2e94d9fd-81eb-4d62-bfff-c46c9b436944",
      "metadata": {
        "id": "2e94d9fd-81eb-4d62-bfff-c46c9b436944",
        "outputId": "e034a51e-4d6b-4b3a-9d54-968dd55cd865"
      },
      "outputs": [
        {
          "data": {
            "text/html": [
              "<div>\n",
              "<style scoped>\n",
              "    .dataframe tbody tr th:only-of-type {\n",
              "        vertical-align: middle;\n",
              "    }\n",
              "\n",
              "    .dataframe tbody tr th {\n",
              "        vertical-align: top;\n",
              "    }\n",
              "\n",
              "    .dataframe thead th {\n",
              "        text-align: right;\n",
              "    }\n",
              "</style>\n",
              "<table border=\"1\" class=\"dataframe\">\n",
              "  <thead>\n",
              "    <tr style=\"text-align: right;\">\n",
              "      <th></th>\n",
              "      <th>Open</th>\n",
              "      <th>High</th>\n",
              "      <th>Low</th>\n",
              "      <th>Close</th>\n",
              "      <th>Adj Close</th>\n",
              "      <th>Volume</th>\n",
              "    </tr>\n",
              "  </thead>\n",
              "  <tbody>\n",
              "    <tr>\n",
              "      <th>count</th>\n",
              "      <td>6864.000000</td>\n",
              "      <td>6864.000000</td>\n",
              "      <td>6864.000000</td>\n",
              "      <td>6864.000000</td>\n",
              "      <td>6864.000000</td>\n",
              "      <td>6.864000e+03</td>\n",
              "    </tr>\n",
              "    <tr>\n",
              "      <th>mean</th>\n",
              "      <td>37.789490</td>\n",
              "      <td>38.398499</td>\n",
              "      <td>37.098333</td>\n",
              "      <td>37.718267</td>\n",
              "      <td>15.757361</td>\n",
              "      <td>6.982651e+07</td>\n",
              "    </tr>\n",
              "    <tr>\n",
              "      <th>std</th>\n",
              "      <td>29.604842</td>\n",
              "      <td>30.016965</td>\n",
              "      <td>29.104956</td>\n",
              "      <td>29.542239</td>\n",
              "      <td>19.703162</td>\n",
              "      <td>5.831510e+07</td>\n",
              "    </tr>\n",
              "    <tr>\n",
              "      <th>min</th>\n",
              "      <td>3.705570</td>\n",
              "      <td>3.910499</td>\n",
              "      <td>3.705570</td>\n",
              "      <td>3.775751</td>\n",
              "      <td>0.902283</td>\n",
              "      <td>0.000000e+00</td>\n",
              "    </tr>\n",
              "    <tr>\n",
              "      <th>25%</th>\n",
              "      <td>10.554558</td>\n",
              "      <td>10.702640</td>\n",
              "      <td>10.366472</td>\n",
              "      <td>10.504730</td>\n",
              "      <td>2.432781</td>\n",
              "      <td>3.292896e+07</td>\n",
              "    </tr>\n",
              "    <tr>\n",
              "      <th>50%</th>\n",
              "      <td>34.616764</td>\n",
              "      <td>35.114075</td>\n",
              "      <td>33.954185</td>\n",
              "      <td>34.530851</td>\n",
              "      <td>12.302627</td>\n",
              "      <td>5.383640e+07</td>\n",
              "    </tr>\n",
              "    <tr>\n",
              "      <th>75%</th>\n",
              "      <td>50.849415</td>\n",
              "      <td>51.657379</td>\n",
              "      <td>50.037729</td>\n",
              "      <td>50.813896</td>\n",
              "      <td>18.808940</td>\n",
              "      <td>8.758241e+07</td>\n",
              "    </tr>\n",
              "    <tr>\n",
              "      <th>max</th>\n",
              "      <td>161.486557</td>\n",
              "      <td>161.486557</td>\n",
              "      <td>161.486557</td>\n",
              "      <td>161.486557</td>\n",
              "      <td>123.550003</td>\n",
              "      <td>6.428460e+08</td>\n",
              "    </tr>\n",
              "  </tbody>\n",
              "</table>\n",
              "</div>"
            ],
            "text/plain": [
              "              Open         High          Low        Close    Adj Close  \\\n",
              "count  6864.000000  6864.000000  6864.000000  6864.000000  6864.000000   \n",
              "mean     37.789490    38.398499    37.098333    37.718267    15.757361   \n",
              "std      29.604842    30.016965    29.104956    29.542239    19.703162   \n",
              "min       3.705570     3.910499     3.705570     3.775751     0.902283   \n",
              "25%      10.554558    10.702640    10.366472    10.504730     2.432781   \n",
              "50%      34.616764    35.114075    33.954185    34.530851    12.302627   \n",
              "75%      50.849415    51.657379    50.037729    50.813896    18.808940   \n",
              "max     161.486557   161.486557   161.486557   161.486557   123.550003   \n",
              "\n",
              "             Volume  \n",
              "count  6.864000e+03  \n",
              "mean   6.982651e+07  \n",
              "std    5.831510e+07  \n",
              "min    0.000000e+00  \n",
              "25%    3.292896e+07  \n",
              "50%    5.383640e+07  \n",
              "75%    8.758241e+07  \n",
              "max    6.428460e+08  "
            ]
          },
          "execution_count": 5,
          "metadata": {},
          "output_type": "execute_result"
        }
      ],
      "source": [
        "df.describe()"
      ]
    },
    {
      "cell_type": "markdown",
      "id": "70c2353a-a298-45a1-9588-548ba9b76ee1",
      "metadata": {
        "id": "70c2353a-a298-45a1-9588-548ba9b76ee1"
      },
      "source": [
        "### Check if there were any null values"
      ]
    },
    {
      "cell_type": "code",
      "execution_count": null,
      "id": "201fccaa-0610-4562-a4d9-8ab782650e8a",
      "metadata": {
        "id": "201fccaa-0610-4562-a4d9-8ab782650e8a",
        "outputId": "a5448a05-91aa-4cf7-9dc2-3fd6feca8f7c"
      },
      "outputs": [
        {
          "data": {
            "text/plain": [
              "Date         0\n",
              "Open         7\n",
              "High         7\n",
              "Low          7\n",
              "Close        7\n",
              "Adj Close    7\n",
              "Volume       7\n",
              "dtype: int64"
            ]
          },
          "execution_count": 6,
          "metadata": {},
          "output_type": "execute_result"
        }
      ],
      "source": [
        "df.isnull().sum()"
      ]
    },
    {
      "cell_type": "code",
      "execution_count": null,
      "id": "7655abc5-c027-45b5-8d06-a3bc9a7a36e5",
      "metadata": {
        "id": "7655abc5-c027-45b5-8d06-a3bc9a7a36e5"
      },
      "outputs": [],
      "source": [
        "df.dropna(inplace=True)"
      ]
    },
    {
      "cell_type": "code",
      "execution_count": null,
      "id": "50f5bc2c-ec5a-4e4c-984d-331685d2d16a",
      "metadata": {
        "id": "50f5bc2c-ec5a-4e4c-984d-331685d2d16a",
        "outputId": "8ca43ef9-67e0-4804-8812-83245fa83acb"
      },
      "outputs": [
        {
          "data": {
            "text/plain": [
              "Date         0\n",
              "Open         0\n",
              "High         0\n",
              "Low          0\n",
              "Close        0\n",
              "Adj Close    0\n",
              "Volume       0\n",
              "dtype: int64"
            ]
          },
          "execution_count": 8,
          "metadata": {},
          "output_type": "execute_result"
        }
      ],
      "source": [
        "df.isnull().sum()"
      ]
    },
    {
      "cell_type": "markdown",
      "id": "f02ceedb-ae80-4111-8077-4b2d67d926a0",
      "metadata": {
        "id": "f02ceedb-ae80-4111-8077-4b2d67d926a0"
      },
      "source": [
        "### Check if there were any duplicate values"
      ]
    },
    {
      "cell_type": "code",
      "execution_count": null,
      "id": "6867a814-00c2-414a-8900-5d7b257abe8d",
      "metadata": {
        "id": "6867a814-00c2-414a-8900-5d7b257abe8d",
        "outputId": "af7eed0d-c286-4501-af86-f35cb5d91ee9"
      },
      "outputs": [
        {
          "data": {
            "text/plain": [
              "0"
            ]
          },
          "execution_count": 9,
          "metadata": {},
          "output_type": "execute_result"
        }
      ],
      "source": [
        "df.duplicated().sum()"
      ]
    },
    {
      "cell_type": "markdown",
      "id": "92a83d05-6b41-46b8-885d-0944f08fa842",
      "metadata": {
        "id": "92a83d05-6b41-46b8-885d-0944f08fa842"
      },
      "source": [
        "## Feature Engineering"
      ]
    },
    {
      "cell_type": "code",
      "execution_count": null,
      "id": "f4b65963-7408-4a6f-afd6-626096981fe5",
      "metadata": {
        "id": "f4b65963-7408-4a6f-afd6-626096981fe5",
        "outputId": "4fc8973d-a992-419b-8f70-014a087e9df5"
      },
      "outputs": [
        {
          "data": {
            "text/html": [
              "<div>\n",
              "<style scoped>\n",
              "    .dataframe tbody tr th:only-of-type {\n",
              "        vertical-align: middle;\n",
              "    }\n",
              "\n",
              "    .dataframe tbody tr th {\n",
              "        vertical-align: top;\n",
              "    }\n",
              "\n",
              "    .dataframe thead th {\n",
              "        text-align: right;\n",
              "    }\n",
              "</style>\n",
              "<table border=\"1\" class=\"dataframe\">\n",
              "  <thead>\n",
              "    <tr style=\"text-align: right;\">\n",
              "      <th></th>\n",
              "      <th>Date</th>\n",
              "      <th>Open</th>\n",
              "      <th>High</th>\n",
              "      <th>Low</th>\n",
              "      <th>Close</th>\n",
              "      <th>Adj Close</th>\n",
              "      <th>Volume</th>\n",
              "    </tr>\n",
              "  </thead>\n",
              "  <tbody>\n",
              "    <tr>\n",
              "      <th>0</th>\n",
              "      <td>1996-01-01</td>\n",
              "      <td>11.172855</td>\n",
              "      <td>11.214964</td>\n",
              "      <td>11.035300</td>\n",
              "      <td>11.186892</td>\n",
              "      <td>2.568285</td>\n",
              "      <td>10242229.0</td>\n",
              "    </tr>\n",
              "    <tr>\n",
              "      <th>1</th>\n",
              "      <td>1996-01-02</td>\n",
              "      <td>11.172855</td>\n",
              "      <td>11.214964</td>\n",
              "      <td>10.951082</td>\n",
              "      <td>10.979155</td>\n",
              "      <td>2.520592</td>\n",
              "      <td>16954313.0</td>\n",
              "    </tr>\n",
              "    <tr>\n",
              "      <th>2</th>\n",
              "      <td>1996-01-03</td>\n",
              "      <td>10.979155</td>\n",
              "      <td>11.229000</td>\n",
              "      <td>10.951082</td>\n",
              "      <td>10.981962</td>\n",
              "      <td>2.521237</td>\n",
              "      <td>13514114.0</td>\n",
              "    </tr>\n",
              "    <tr>\n",
              "      <th>3</th>\n",
              "      <td>1996-01-04</td>\n",
              "      <td>10.807913</td>\n",
              "      <td>10.807913</td>\n",
              "      <td>10.386825</td>\n",
              "      <td>10.633863</td>\n",
              "      <td>2.441320</td>\n",
              "      <td>34785820.0</td>\n",
              "    </tr>\n",
              "    <tr>\n",
              "      <th>4</th>\n",
              "      <td>1996-01-05</td>\n",
              "      <td>10.504730</td>\n",
              "      <td>10.555260</td>\n",
              "      <td>10.316644</td>\n",
              "      <td>10.423319</td>\n",
              "      <td>2.392984</td>\n",
              "      <td>30138033.0</td>\n",
              "    </tr>\n",
              "  </tbody>\n",
              "</table>\n",
              "</div>"
            ],
            "text/plain": [
              "         Date       Open       High        Low      Close  Adj Close  \\\n",
              "0  1996-01-01  11.172855  11.214964  11.035300  11.186892   2.568285   \n",
              "1  1996-01-02  11.172855  11.214964  10.951082  10.979155   2.520592   \n",
              "2  1996-01-03  10.979155  11.229000  10.951082  10.981962   2.521237   \n",
              "3  1996-01-04  10.807913  10.807913  10.386825  10.633863   2.441320   \n",
              "4  1996-01-05  10.504730  10.555260  10.316644  10.423319   2.392984   \n",
              "\n",
              "       Volume  \n",
              "0  10242229.0  \n",
              "1  16954313.0  \n",
              "2  13514114.0  \n",
              "3  34785820.0  \n",
              "4  30138033.0  "
            ]
          },
          "execution_count": 10,
          "metadata": {},
          "output_type": "execute_result"
        }
      ],
      "source": [
        "df.head()"
      ]
    },
    {
      "cell_type": "markdown",
      "id": "db084bdb-ade9-4247-8e6f-aefe630371ba",
      "metadata": {
        "id": "db084bdb-ade9-4247-8e6f-aefe630371ba"
      },
      "source": [
        "### Split Date into Year, Month and Date"
      ]
    },
    {
      "cell_type": "code",
      "execution_count": null,
      "id": "3a6528bf-ab10-478a-ae4f-5b5f713efefd",
      "metadata": {
        "id": "3a6528bf-ab10-478a-ae4f-5b5f713efefd"
      },
      "outputs": [],
      "source": [
        "df[\"Year\"]=df[\"Date\"].str[0:4]"
      ]
    },
    {
      "cell_type": "code",
      "execution_count": null,
      "id": "655568a8-c614-4261-a9e9-69c2cd187e53",
      "metadata": {
        "id": "655568a8-c614-4261-a9e9-69c2cd187e53"
      },
      "outputs": [],
      "source": [
        "df[\"date\"]=df[\"Date\"].str[8:10]"
      ]
    },
    {
      "cell_type": "code",
      "execution_count": null,
      "id": "aa04e81c-1359-4a93-8bfa-8495e1e536c8",
      "metadata": {
        "id": "aa04e81c-1359-4a93-8bfa-8495e1e536c8"
      },
      "outputs": [],
      "source": [
        "df[\"month_num\"]=df[\"Date\"].str[5:7]"
      ]
    },
    {
      "cell_type": "code",
      "execution_count": null,
      "id": "9f9913bc-0243-4494-8358-ae2b054b3588",
      "metadata": {
        "id": "9f9913bc-0243-4494-8358-ae2b054b3588"
      },
      "outputs": [],
      "source": [
        "def month_name(num):\n",
        "    if num == \"01\":\n",
        "        return \"January\"\n",
        "    elif num == \"02\":\n",
        "        return \"February\"\n",
        "    elif num == \"03\":\n",
        "        return \"March\"\n",
        "    elif num == \"04\":\n",
        "        return \"April\"\n",
        "    elif num == \"05\":\n",
        "        return \"May\"\n",
        "    elif num == \"06\":\n",
        "        return \"June\"\n",
        "    elif num == \"07\":\n",
        "        return \"July\"\n",
        "    elif num == \"08\":\n",
        "        return \"August\"\n",
        "    elif num == \"09\":\n",
        "        return \"September\"\n",
        "    elif num == \"10\":\n",
        "        return \"October\"\n",
        "    elif num == \"11\":\n",
        "        return \"November\"\n",
        "    elif num == \"12\":\n",
        "        return \"December\"\n",
        "    else:\n",
        "        return \"Invalid Month\""
      ]
    },
    {
      "cell_type": "code",
      "execution_count": null,
      "id": "d7b1f578-738a-43ea-827e-1dd46a7df72c",
      "metadata": {
        "id": "d7b1f578-738a-43ea-827e-1dd46a7df72c"
      },
      "outputs": [],
      "source": [
        "df[\"month_name\"]=df[\"Date\"].str[5:7].apply(month_name)"
      ]
    },
    {
      "cell_type": "code",
      "execution_count": null,
      "id": "fe963db3-6804-495d-8ae2-bd5787721208",
      "metadata": {
        "id": "fe963db3-6804-495d-8ae2-bd5787721208"
      },
      "outputs": [],
      "source": [
        "df[\"Year\"]=df[\"Year\"].astype(int)\n",
        "df[\"date\"]=df[\"date\"].astype(int)\n",
        "df[\"month_num\"]=df[\"month_num\"].astype(int)"
      ]
    },
    {
      "cell_type": "code",
      "execution_count": null,
      "id": "7278a8bf-ff28-47b3-ae30-bc146f1790c1",
      "metadata": {
        "id": "7278a8bf-ff28-47b3-ae30-bc146f1790c1"
      },
      "outputs": [],
      "source": [
        "df['Date'] = pd.to_datetime(df['Date'])"
      ]
    },
    {
      "cell_type": "markdown",
      "id": "5c40994d-63a3-4ee3-a2f1-900243b2f9e8",
      "metadata": {
        "id": "5c40994d-63a3-4ee3-a2f1-900243b2f9e8"
      },
      "source": [
        "## EDA"
      ]
    },
    {
      "cell_type": "markdown",
      "id": "529df08d-d9cc-471c-8792-de114f6faaaf",
      "metadata": {
        "id": "529df08d-d9cc-471c-8792-de114f6faaaf"
      },
      "source": [
        "### Opening vs Closing "
      ]
    },
    {
      "cell_type": "code",
      "execution_count": null,
      "id": "991101f9-0dee-45bb-8f8c-0e3f5915b7b4",
      "metadata": {
        "id": "991101f9-0dee-45bb-8f8c-0e3f5915b7b4",
        "outputId": "af345d54-abf2-4bcc-cf4e-ab7f62e31890"
      },
      "outputs": [
        {
          "data": {
            "text/plain": [
              "<matplotlib.legend.Legend at 0x7fb51d36f730>"
            ]
          },
          "execution_count": 18,
          "metadata": {},
          "output_type": "execute_result"
        },
        {
          "data": {
            "image/png": "[encoded data removed]",
            "text/plain": [
              "<Figure size 1000x600 with 1 Axes>"
            ]
          },
          "metadata": {},
          "output_type": "display_data"
        }
      ],
      "source": [
        "plt.figure(figsize=(10,6))\n",
        "sns.lineplot(x=df[\"Date\"],y=df[\"Open\"],c=\"g\", label=\"Open\")\n",
        "sns.lineplot(x=df[\"Date\"],y=df[\"Close\"],c=\"r\", label=\"Close\")\n",
        "plt.ylabel(\"Prices\")\n",
        "plt.title(\"Open vs Close Comparision\")\n",
        "plt.legend()"
      ]
    },
    {
      "cell_type": "markdown",
      "id": "80e6eb6b-6c00-4492-9d2c-04ac8a2e480d",
      "metadata": {
        "id": "80e6eb6b-6c00-4492-9d2c-04ac8a2e480d"
      },
      "source": [
        "#### Observations:\n",
        "- Opening prices were mostly higher than closing"
      ]
    },
    {
      "cell_type": "markdown",
      "id": "419f4e80-202a-4a44-a6f0-c32fbf250505",
      "metadata": {
        "id": "419f4e80-202a-4a44-a6f0-c32fbf250505"
      },
      "source": [
        "### Prices by date"
      ]
    },
    {
      "cell_type": "code",
      "execution_count": null,
      "id": "a944d2da-b2b0-43cf-b80e-aacfe1bf40ed",
      "metadata": {
        "id": "a944d2da-b2b0-43cf-b80e-aacfe1bf40ed"
      },
      "outputs": [],
      "source": [
        "sorted_df=df.sort_values(by=\"date\")"
      ]
    },
    {
      "cell_type": "code",
      "execution_count": null,
      "id": "af714780-ebea-4351-a308-a1f2d6c4689b",
      "metadata": {
        "id": "af714780-ebea-4351-a308-a1f2d6c4689b",
        "outputId": "d74fbaf6-3fbf-4386-ce6f-351efebf12c7"
      },
      "outputs": [
        {
          "data": {
            "text/html": [
              "<div>\n",
              "<style scoped>\n",
              "    .dataframe tbody tr th:only-of-type {\n",
              "        vertical-align: middle;\n",
              "    }\n",
              "\n",
              "    .dataframe tbody tr th {\n",
              "        vertical-align: top;\n",
              "    }\n",
              "\n",
              "    .dataframe thead th {\n",
              "        text-align: right;\n",
              "    }\n",
              "</style>\n",
              "<table border=\"1\" class=\"dataframe\">\n",
              "  <thead>\n",
              "    <tr style=\"text-align: right;\">\n",
              "      <th></th>\n",
              "      <th>Date</th>\n",
              "      <th>Open</th>\n",
              "      <th>High</th>\n",
              "      <th>Low</th>\n",
              "      <th>Close</th>\n",
              "      <th>Adj Close</th>\n",
              "      <th>Volume</th>\n",
              "      <th>Year</th>\n",
              "      <th>date</th>\n",
              "      <th>month_num</th>\n",
              "      <th>month_name</th>\n",
              "    </tr>\n",
              "  </thead>\n",
              "  <tbody>\n",
              "    <tr>\n",
              "      <th>0</th>\n",
              "      <td>1996-01-01</td>\n",
              "      <td>11.172855</td>\n",
              "      <td>11.214964</td>\n",
              "      <td>11.035300</td>\n",
              "      <td>11.186892</td>\n",
              "      <td>2.568285</td>\n",
              "      <td>10242229.0</td>\n",
              "      <td>1996</td>\n",
              "      <td>1</td>\n",
              "      <td>1</td>\n",
              "      <td>January</td>\n",
              "    </tr>\n",
              "    <tr>\n",
              "      <th>4702</th>\n",
              "      <td>2014-07-01</td>\n",
              "      <td>50.495041</td>\n",
              "      <td>51.952728</td>\n",
              "      <td>50.495041</td>\n",
              "      <td>51.509705</td>\n",
              "      <td>19.121082</td>\n",
              "      <td>55762230.0</td>\n",
              "      <td>2014</td>\n",
              "      <td>1</td>\n",
              "      <td>7</td>\n",
              "      <td>July</td>\n",
              "    </tr>\n",
              "    <tr>\n",
              "      <th>761</th>\n",
              "      <td>1998-12-01</td>\n",
              "      <td>4.803205</td>\n",
              "      <td>5.131653</td>\n",
              "      <td>4.794783</td>\n",
              "      <td>5.081122</td>\n",
              "      <td>1.166523</td>\n",
              "      <td>61206692.0</td>\n",
              "      <td>1998</td>\n",
              "      <td>1</td>\n",
              "      <td>12</td>\n",
              "      <td>December</td>\n",
              "    </tr>\n",
              "    <tr>\n",
              "      <th>2948</th>\n",
              "      <td>2007-06-01</td>\n",
              "      <td>47.279709</td>\n",
              "      <td>48.072193</td>\n",
              "      <td>47.096954</td>\n",
              "      <td>47.279709</td>\n",
              "      <td>14.531234</td>\n",
              "      <td>17940414.0</td>\n",
              "      <td>2007</td>\n",
              "      <td>1</td>\n",
              "      <td>6</td>\n",
              "      <td>June</td>\n",
              "    </tr>\n",
              "    <tr>\n",
              "      <th>6324</th>\n",
              "      <td>2021-02-01</td>\n",
              "      <td>60.490002</td>\n",
              "      <td>64.000000</td>\n",
              "      <td>59.744999</td>\n",
              "      <td>63.610001</td>\n",
              "      <td>27.656687</td>\n",
              "      <td>210846940.0</td>\n",
              "      <td>2021</td>\n",
              "      <td>1</td>\n",
              "      <td>2</td>\n",
              "      <td>February</td>\n",
              "    </tr>\n",
              "    <tr>\n",
              "      <th>...</th>\n",
              "      <td>...</td>\n",
              "      <td>...</td>\n",
              "      <td>...</td>\n",
              "      <td>...</td>\n",
              "      <td>...</td>\n",
              "      <td>...</td>\n",
              "      <td>...</td>\n",
              "      <td>...</td>\n",
              "      <td>...</td>\n",
              "      <td>...</td>\n",
              "      <td>...</td>\n",
              "    </tr>\n",
              "    <tr>\n",
              "      <th>4476</th>\n",
              "      <td>2013-07-31</td>\n",
              "      <td>19.826448</td>\n",
              "      <td>20.741076</td>\n",
              "      <td>19.278625</td>\n",
              "      <td>20.550529</td>\n",
              "      <td>7.628629</td>\n",
              "      <td>65774010.0</td>\n",
              "      <td>2013</td>\n",
              "      <td>31</td>\n",
              "      <td>7</td>\n",
              "      <td>July</td>\n",
              "    </tr>\n",
              "    <tr>\n",
              "      <th>4640</th>\n",
              "      <td>2014-03-31</td>\n",
              "      <td>36.647015</td>\n",
              "      <td>37.761715</td>\n",
              "      <td>36.489815</td>\n",
              "      <td>37.533058</td>\n",
              "      <td>13.932767</td>\n",
              "      <td>73888761.0</td>\n",
              "      <td>2014</td>\n",
              "      <td>31</td>\n",
              "      <td>3</td>\n",
              "      <td>March</td>\n",
              "    </tr>\n",
              "    <tr>\n",
              "      <th>6551</th>\n",
              "      <td>2021-12-31</td>\n",
              "      <td>110.500000</td>\n",
              "      <td>112.349998</td>\n",
              "      <td>110.264999</td>\n",
              "      <td>111.144997</td>\n",
              "      <td>49.405617</td>\n",
              "      <td>36870210.0</td>\n",
              "      <td>2021</td>\n",
              "      <td>31</td>\n",
              "      <td>12</td>\n",
              "      <td>December</td>\n",
              "    </tr>\n",
              "    <tr>\n",
              "      <th>5170</th>\n",
              "      <td>2016-05-31</td>\n",
              "      <td>30.916304</td>\n",
              "      <td>32.154861</td>\n",
              "      <td>30.511391</td>\n",
              "      <td>31.854750</td>\n",
              "      <td>12.419637</td>\n",
              "      <td>105401750.0</td>\n",
              "      <td>2016</td>\n",
              "      <td>31</td>\n",
              "      <td>5</td>\n",
              "      <td>May</td>\n",
              "    </tr>\n",
              "    <tr>\n",
              "      <th>1044</th>\n",
              "      <td>1999-12-31</td>\n",
              "      <td>7.992241</td>\n",
              "      <td>7.992241</td>\n",
              "      <td>7.992241</td>\n",
              "      <td>7.992241</td>\n",
              "      <td>1.906113</td>\n",
              "      <td>0.0</td>\n",
              "      <td>1999</td>\n",
              "      <td>31</td>\n",
              "      <td>12</td>\n",
              "      <td>December</td>\n",
              "    </tr>\n",
              "  </tbody>\n",
              "</table>\n",
              "<p>6864 rows × 11 columns</p>\n",
              "</div>"
            ],
            "text/plain": [
              "           Date        Open        High         Low       Close  Adj Close  \\\n",
              "0    1996-01-01   11.172855   11.214964   11.035300   11.186892   2.568285   \n",
              "4702 2014-07-01   50.495041   51.952728   50.495041   51.509705  19.121082   \n",
              "761  1998-12-01    4.803205    5.131653    4.794783    5.081122   1.166523   \n",
              "2948 2007-06-01   47.279709   48.072193   47.096954   47.279709  14.531234   \n",
              "6324 2021-02-01   60.490002   64.000000   59.744999   63.610001  27.656687   \n",
              "...         ...         ...         ...         ...         ...        ...   \n",
              "4476 2013-07-31   19.826448   20.741076   19.278625   20.550529   7.628629   \n",
              "4640 2014-03-31   36.647015   37.761715   36.489815   37.533058  13.932767   \n",
              "6551 2021-12-31  110.500000  112.349998  110.264999  111.144997  49.405617   \n",
              "5170 2016-05-31   30.916304   32.154861   30.511391   31.854750  12.419637   \n",
              "1044 1999-12-31    7.992241    7.992241    7.992241    7.992241   1.906113   \n",
              "\n",
              "           Volume  Year  date  month_num month_name  \n",
              "0      10242229.0  1996     1          1    January  \n",
              "4702   55762230.0  2014     1          7       July  \n",
              "761    61206692.0  1998     1         12   December  \n",
              "2948   17940414.0  2007     1          6       June  \n",
              "6324  210846940.0  2021     1          2   February  \n",
              "...           ...   ...   ...        ...        ...  \n",
              "4476   65774010.0  2013    31          7       July  \n",
              "4640   73888761.0  2014    31          3      March  \n",
              "6551   36870210.0  2021    31         12   December  \n",
              "5170  105401750.0  2016    31          5        May  \n",
              "1044          0.0  1999    31         12   December  \n",
              "\n",
              "[6864 rows x 11 columns]"
            ]
          },
          "execution_count": 20,
          "metadata": {},
          "output_type": "execute_result"
        }
      ],
      "source": [
        "sorted_df"
      ]
    },
    {
      "cell_type": "code",
      "execution_count": null,
      "id": "f1a6808e-97a7-4bac-8fb4-7442e175db07",
      "metadata": {
        "id": "f1a6808e-97a7-4bac-8fb4-7442e175db07",
        "outputId": "a73de1f7-6a8b-4898-b182-3d9147b79cfb"
      },
      "outputs": [
        {
          "data": {
            "text/plain": [
              "Text(0.5, 1.0, 'Opening Prices by Dates')"
            ]
          },
          "execution_count": 21,
          "metadata": {},
          "output_type": "execute_result"
        },
        {
          "data": {
            "image/png": "[encoded data removed]",
            "text/plain": [
              "<Figure size 1000x600 with 1 Axes>"
            ]
          },
          "metadata": {},
          "output_type": "display_data"
        }
      ],
      "source": [
        "plt.figure(figsize=(10,6))\n",
        "sns.barplot(x=sorted_df[\"date\"],y=sorted_df[\"Open\"])\n",
        "plt.title(\"Opening Prices by Dates\")"
      ]
    },
    {
      "cell_type": "markdown",
      "id": "3319e546-a22d-40d3-8efd-06d51672ba57",
      "metadata": {
        "id": "3319e546-a22d-40d3-8efd-06d51672ba57"
      },
      "source": [
        "### Open Prices by month"
      ]
    },
    {
      "cell_type": "code",
      "execution_count": null,
      "id": "ddf450f0-c140-40f5-af7d-47cd7af3fbe5",
      "metadata": {
        "id": "ddf450f0-c140-40f5-af7d-47cd7af3fbe5"
      },
      "outputs": [],
      "source": [
        "sorted_df=df.sort_values(by=\"month_num\")"
      ]
    },
    {
      "cell_type": "code",
      "execution_count": null,
      "id": "f0208d9b-dcea-422d-b188-6ef7ef03aa6b",
      "metadata": {
        "id": "f0208d9b-dcea-422d-b188-6ef7ef03aa6b",
        "outputId": "7b2a0dba-05b2-4a60-a742-728bce33cfe4"
      },
      "outputs": [
        {
          "data": {
            "text/plain": [
              "Text(0.5, 1.0, 'Opening Prices by Months')"
            ]
          },
          "execution_count": 23,
          "metadata": {},
          "output_type": "execute_result"
        },
        {
          "data": {
            "image/png": "[encoded data removed]",
            "text/plain": [
              "<Figure size 1300x600 with 1 Axes>"
            ]
          },
          "metadata": {},
          "output_type": "display_data"
        }
      ],
      "source": [
        "plt.figure(figsize=(13,6))\n",
        "sns.barplot(x=sorted_df[\"month_num\"],y=sorted_df[\"Open\"])\n",
        "plt.title(\"Opening Prices by Months\")"
      ]
    },
    {
      "cell_type": "markdown",
      "id": "bb08107f-8364-4084-b618-b961f9d516f9",
      "metadata": {
        "id": "bb08107f-8364-4084-b618-b961f9d516f9"
      },
      "source": [
        "## Coreleation of features"
      ]
    },
    {
      "cell_type": "code",
      "execution_count": null,
      "id": "0b6bfa55-0ef2-405e-8dac-2cc4d3f2484b",
      "metadata": {
        "id": "0b6bfa55-0ef2-405e-8dac-2cc4d3f2484b",
        "outputId": "6fa7ef1f-59b3-4760-d4f9-f3d64a5c9268"
      },
      "outputs": [
        {
          "data": {
            "text/plain": [
              "<AxesSubplot: >"
            ]
          },
          "execution_count": 24,
          "metadata": {},
          "output_type": "execute_result"
        },
        {
          "data": {
            "image/png": "[encoded data removed]",
            "text/plain": [
              "<Figure size 1000x600 with 2 Axes>"
            ]
          },
          "metadata": {},
          "output_type": "display_data"
        }
      ],
      "source": [
        "plt.figure(figsize=(10,6))\n",
        "sns.heatmap(df.corr(),annot=True)"
      ]
    },
    {
      "cell_type": "markdown",
      "id": "df739833-98ec-4fd3-8a46-657d013f4222",
      "metadata": {
        "id": "df739833-98ec-4fd3-8a46-657d013f4222"
      },
      "source": [
        "### Observations:\n",
        "- High, Low, Close were very similar to Open. so we can drop them\n",
        "- As it will be difficult to predict Adj close and also Volume by the user, its better to remove those also\n",
        "- As we cant use DateTime directly in ML training, remove Date also"
      ]
    },
    {
      "cell_type": "code",
      "execution_count": null,
      "id": "5926e351-9d9a-454b-ba87-3d82b6de035a",
      "metadata": {
        "id": "5926e351-9d9a-454b-ba87-3d82b6de035a"
      },
      "outputs": [],
      "source": [
        "df.drop([\"High\",\"Low\",\"Close\",\"Adj Close\",\"Volume\",\"Date\"],axis=1,inplace=True)"
      ]
    },
    {
      "cell_type": "code",
      "execution_count": null,
      "id": "7d9e4916-7560-45eb-ab80-e13daa8c99a8",
      "metadata": {
        "id": "7d9e4916-7560-45eb-ab80-e13daa8c99a8"
      },
      "outputs": [],
      "source": [
        "df=df.sample(frac=1)"
      ]
    },
    {
      "cell_type": "code",
      "execution_count": null,
      "id": "9a41df31-7f9b-41d2-b9e3-33d96cf1a393",
      "metadata": {
        "id": "9a41df31-7f9b-41d2-b9e3-33d96cf1a393",
        "outputId": "02609b55-3018-42e9-9bdd-09dd4538c3f1"
      },
      "outputs": [
        {
          "data": {
            "text/html": [
              "<div>\n",
              "<style scoped>\n",
              "    .dataframe tbody tr th:only-of-type {\n",
              "        vertical-align: middle;\n",
              "    }\n",
              "\n",
              "    .dataframe tbody tr th {\n",
              "        vertical-align: top;\n",
              "    }\n",
              "\n",
              "    .dataframe thead th {\n",
              "        text-align: right;\n",
              "    }\n",
              "</style>\n",
              "<table border=\"1\" class=\"dataframe\">\n",
              "  <thead>\n",
              "    <tr style=\"text-align: right;\">\n",
              "      <th></th>\n",
              "      <th>Open</th>\n",
              "      <th>Year</th>\n",
              "      <th>date</th>\n",
              "      <th>month_num</th>\n",
              "      <th>month_name</th>\n",
              "    </tr>\n",
              "  </thead>\n",
              "  <tbody>\n",
              "    <tr>\n",
              "      <th>1827</th>\n",
              "      <td>8.531233</td>\n",
              "      <td>2003</td>\n",
              "      <td>1</td>\n",
              "      <td>1</td>\n",
              "      <td>January</td>\n",
              "    </tr>\n",
              "    <tr>\n",
              "      <th>5006</th>\n",
              "      <td>20.960205</td>\n",
              "      <td>2015</td>\n",
              "      <td>24</td>\n",
              "      <td>9</td>\n",
              "      <td>September</td>\n",
              "    </tr>\n",
              "    <tr>\n",
              "      <th>5091</th>\n",
              "      <td>23.842234</td>\n",
              "      <td>2016</td>\n",
              "      <td>2</td>\n",
              "      <td>2</td>\n",
              "      <td>February</td>\n",
              "    </tr>\n",
              "    <tr>\n",
              "      <th>24</th>\n",
              "      <td>9.783266</td>\n",
              "      <td>1996</td>\n",
              "      <td>2</td>\n",
              "      <td>2</td>\n",
              "      <td>February</td>\n",
              "    </tr>\n",
              "    <tr>\n",
              "      <th>2208</th>\n",
              "      <td>15.889036</td>\n",
              "      <td>2004</td>\n",
              "      <td>17</td>\n",
              "      <td>6</td>\n",
              "      <td>June</td>\n",
              "    </tr>\n",
              "    <tr>\n",
              "      <th>...</th>\n",
              "      <td>...</td>\n",
              "      <td>...</td>\n",
              "      <td>...</td>\n",
              "      <td>...</td>\n",
              "      <td>...</td>\n",
              "    </tr>\n",
              "    <tr>\n",
              "      <th>5341</th>\n",
              "      <td>45.264519</td>\n",
              "      <td>2017</td>\n",
              "      <td>7</td>\n",
              "      <td>2</td>\n",
              "      <td>February</td>\n",
              "    </tr>\n",
              "    <tr>\n",
              "      <th>2916</th>\n",
              "      <td>38.681099</td>\n",
              "      <td>2007</td>\n",
              "      <td>16</td>\n",
              "      <td>4</td>\n",
              "      <td>April</td>\n",
              "    </tr>\n",
              "    <tr>\n",
              "      <th>2044</th>\n",
              "      <td>19.681631</td>\n",
              "      <td>2003</td>\n",
              "      <td>31</td>\n",
              "      <td>10</td>\n",
              "      <td>October</td>\n",
              "    </tr>\n",
              "    <tr>\n",
              "      <th>2287</th>\n",
              "      <td>24.759947</td>\n",
              "      <td>2004</td>\n",
              "      <td>6</td>\n",
              "      <td>10</td>\n",
              "      <td>October</td>\n",
              "    </tr>\n",
              "    <tr>\n",
              "      <th>1586</th>\n",
              "      <td>5.457294</td>\n",
              "      <td>2002</td>\n",
              "      <td>29</td>\n",
              "      <td>1</td>\n",
              "      <td>January</td>\n",
              "    </tr>\n",
              "  </tbody>\n",
              "</table>\n",
              "<p>6864 rows × 5 columns</p>\n",
              "</div>"
            ],
            "text/plain": [
              "           Open  Year  date  month_num month_name\n",
              "1827   8.531233  2003     1          1    January\n",
              "5006  20.960205  2015    24          9  September\n",
              "5091  23.842234  2016     2          2   February\n",
              "24     9.783266  1996     2          2   February\n",
              "2208  15.889036  2004    17          6       June\n",
              "...         ...   ...   ...        ...        ...\n",
              "5341  45.264519  2017     7          2   February\n",
              "2916  38.681099  2007    16          4      April\n",
              "2044  19.681631  2003    31         10    October\n",
              "2287  24.759947  2004     6         10    October\n",
              "1586   5.457294  2002    29          1    January\n",
              "\n",
              "[6864 rows x 5 columns]"
            ]
          },
          "execution_count": 27,
          "metadata": {},
          "output_type": "execute_result"
        }
      ],
      "source": [
        "df"
      ]
    },
    {
      "cell_type": "markdown",
      "id": "92cfbaee-8e3e-4899-a8f9-120e1e9cf9f3",
      "metadata": {
        "id": "92cfbaee-8e3e-4899-a8f9-120e1e9cf9f3"
      },
      "source": [
        "## Divide and Split data for model building"
      ]
    },
    {
      "cell_type": "code",
      "execution_count": null,
      "id": "9858c5a9-3afb-4d55-864e-a8b4bd98b733",
      "metadata": {
        "id": "9858c5a9-3afb-4d55-864e-a8b4bd98b733"
      },
      "outputs": [],
      "source": [
        "x=df.drop([\"Open\",\"month_name\"],axis=1)"
      ]
    },
    {
      "cell_type": "code",
      "execution_count": null,
      "id": "decd113f-d0b7-43c8-b4c2-ccd3f3af2eac",
      "metadata": {
        "id": "decd113f-d0b7-43c8-b4c2-ccd3f3af2eac"
      },
      "outputs": [],
      "source": [
        "y=df[\"Open\"]"
      ]
    },
    {
      "cell_type": "code",
      "execution_count": null,
      "id": "5e2b7b49-8631-4870-b7d0-dc668496210e",
      "metadata": {
        "id": "5e2b7b49-8631-4870-b7d0-dc668496210e"
      },
      "outputs": [],
      "source": [
        "from sklearn.model_selection import train_test_split"
      ]
    },
    {
      "cell_type": "code",
      "execution_count": null,
      "id": "8340d554-8a53-4368-b619-da545a599660",
      "metadata": {
        "id": "8340d554-8a53-4368-b619-da545a599660"
      },
      "outputs": [],
      "source": [
        "x_train,x_test,y_train,y_test=train_test_split(x,y,test_size=25,random_state=25)"
      ]
    },
    {
      "cell_type": "markdown",
      "id": "e034818e-a6ec-4a5c-8087-f6a0c2d2b844",
      "metadata": {
        "id": "e034818e-a6ec-4a5c-8087-f6a0c2d2b844"
      },
      "source": [
        "## Import the Models"
      ]
    },
    {
      "cell_type": "code",
      "execution_count": null,
      "id": "122fc096-ae20-4338-82e6-809711e8a68d",
      "metadata": {
        "id": "122fc096-ae20-4338-82e6-809711e8a68d"
      },
      "outputs": [],
      "source": [
        "from sklearn.ensemble import AdaBoostRegressor\n",
        "from sklearn.ensemble import GradientBoostingRegressor"
      ]
    },
    {
      "cell_type": "markdown",
      "id": "a2938760-a4b1-4287-9b98-f5844d84b873",
      "metadata": {
        "id": "a2938760-a4b1-4287-9b98-f5844d84b873"
      },
      "source": [
        "### Model 1 "
      ]
    },
    {
      "cell_type": "code",
      "execution_count": null,
      "id": "f0bb0b1c-8cd8-486a-925e-2d7676bd8e57",
      "metadata": {
        "id": "f0bb0b1c-8cd8-486a-925e-2d7676bd8e57"
      },
      "outputs": [],
      "source": [
        "model1=AdaBoostRegressor()\n",
        "model1.fit(x_train,y_train)\n",
        "y_pred=model1.predict(x_test)"
      ]
    },
    {
      "cell_type": "code",
      "execution_count": null,
      "id": "d3bfbfe1-1188-4824-af56-c981eb313d34",
      "metadata": {
        "id": "d3bfbfe1-1188-4824-af56-c981eb313d34"
      },
      "outputs": [],
      "source": [
        "from sklearn.metrics import r2_score"
      ]
    },
    {
      "cell_type": "code",
      "execution_count": null,
      "id": "58a25a8e-cbc0-4665-9c6d-7a68d0d07218",
      "metadata": {
        "id": "58a25a8e-cbc0-4665-9c6d-7a68d0d07218",
        "outputId": "bc67fe81-96cd-4cd9-a937-48ba3b30ea17"
      },
      "outputs": [
        {
          "data": {
            "text/plain": [
              "0.8289919993040091"
            ]
          },
          "execution_count": 35,
          "metadata": {},
          "output_type": "execute_result"
        }
      ],
      "source": [
        "r2_score(y_test,y_pred)"
      ]
    },
    {
      "cell_type": "markdown",
      "id": "150629dd-a592-438d-ba0a-193d22407e07",
      "metadata": {
        "id": "150629dd-a592-438d-ba0a-193d22407e07"
      },
      "source": [
        "### Model 2"
      ]
    },
    {
      "cell_type": "code",
      "execution_count": null,
      "id": "717ba7b9-ab77-48d9-a7a5-db30fc1b5016",
      "metadata": {
        "id": "717ba7b9-ab77-48d9-a7a5-db30fc1b5016",
        "outputId": "d53ca2dd-004e-4df0-fd68-a97f5be9a92b"
      },
      "outputs": [
        {
          "data": {
            "text/plain": [
              "0.9758945593446587"
            ]
          },
          "execution_count": 36,
          "metadata": {},
          "output_type": "execute_result"
        }
      ],
      "source": [
        "model2=GradientBoostingRegressor()\n",
        "model2.fit(x_train,y_train)\n",
        "y_pred=model2.predict(x_test)\n",
        "r2_score(y_test,y_pred)"
      ]
    },
    {
      "cell_type": "code",
      "execution_count": null,
      "id": "89f8e505-e12c-4771-9ce5-e73beb438364",
      "metadata": {
        "id": "89f8e505-e12c-4771-9ce5-e73beb438364"
      },
      "outputs": [],
      "source": [
        "from sklearn.metrics import mean_absolute_error,mean_absolute_percentage_error"
      ]
    },
    {
      "cell_type": "code",
      "execution_count": null,
      "id": "e86a0e4e-9370-437c-834a-8315b3339d49",
      "metadata": {
        "id": "e86a0e4e-9370-437c-834a-8315b3339d49",
        "outputId": "85a3fa64-6ffe-4464-c661-25dff60a2720"
      },
      "outputs": [
        {
          "data": {
            "text/plain": [
              "4.411787734307934"
            ]
          },
          "execution_count": 38,
          "metadata": {},
          "output_type": "execute_result"
        }
      ],
      "source": [
        "mean_absolute_error(y_test,y_pred)"
      ]
    },
    {
      "cell_type": "code",
      "execution_count": null,
      "id": "b4302f14-7ba3-44aa-af18-150434d16e49",
      "metadata": {
        "id": "b4302f14-7ba3-44aa-af18-150434d16e49",
        "outputId": "2a0356e8-96fa-4c28-f564-150b62c73472"
      },
      "outputs": [
        {
          "data": {
            "text/plain": [
              "0.11575102566528347"
            ]
          },
          "execution_count": 39,
          "metadata": {},
          "output_type": "execute_result"
        }
      ],
      "source": [
        "mean_absolute_percentage_error(y_test,y_pred)"
      ]
    }
  ],
  "metadata": {
    "kernelspec": {
      "display_name": "Python 3 (ipykernel)",
      "language": "python",
      "name": "python3"
    },
    "language_info": {
      "codemirror_mode": {
        "name": "ipython",
        "version": 3
      },
      "file_extension": ".py",
      "mimetype": "text/x-python",
      "name": "python",
      "nbconvert_exporter": "python",
      "pygments_lexer": "ipython3",
      "version": "3.10.8"
    },
    "colab": {
      "provenance": []
    }
  },
  "nbformat": 4,
  "nbformat_minor": 5
}